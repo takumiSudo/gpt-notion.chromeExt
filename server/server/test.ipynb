{
 "cells": [
  {
   "cell_type": "code",
   "execution_count": 2,
   "metadata": {},
   "outputs": [],
   "source": [
    "import openai\n",
    "from config import openaiKEY"
   ]
  },
  {
   "cell_type": "code",
   "execution_count": 9,
   "metadata": {},
   "outputs": [
    {
     "name": "stdout",
     "output_type": "stream",
     "text": [
      "{\n",
      "  \"choices\": [\n",
      "    {\n",
      "      \"finish_reason\": \"stop\",\n",
      "      \"index\": 0,\n",
      "      \"message\": {\n",
      "        \"content\": \"As an AI language model, I can provide you with a definition of the concept of dog. A dog is a four-legged mammal, typically kept as a pet or used for hunting, guarding, or herding. They are often known for their loyalty, playfulness, and ability to form strong emotional bonds with humans. Dogs come in a variety of breeds, each with their own unique physical characteristics, behavioral traits, and purposes. Domesticated dogs are believed to have descended from wolves and have been bred over thousands of years to create different types of dogs with varying characteristics and abilities. In many cultures, dogs are revered and considered a valuable member of the family unit.\",\n",
      "        \"role\": \"assistant\"\n",
      "      }\n",
      "    }\n",
      "  ],\n",
      "  \"created\": 1686045638,\n",
      "  \"id\": \"chatcmpl-7ONmQbCyf0zU1fAcx3LRVxoX4XJyP\",\n",
      "  \"model\": \"gpt-3.5-turbo-0301\",\n",
      "  \"object\": \"chat.completion\",\n",
      "  \"usage\": {\n",
      "    \"completion_tokens\": 134,\n",
      "    \"prompt_tokens\": 17,\n",
      "    \"total_tokens\": 151\n",
      "  }\n",
      "}\n"
     ]
    }
   ],
   "source": [
    "openai.api_key = openaiKEY\n",
    "text = 'dog'\n",
    "response = openai.ChatCompletion.create(\n",
    "        model = \"gpt-3.5-turbo\",\n",
    "        messages = [\n",
    "            {\"role\": \"system\", \"content\": \"Explain to me the concept of %s.\" %text },\n",
    "        ]\n",
    "    )\n",
    "\n",
    "print(response)"
   ]
  },
  {
   "cell_type": "code",
   "execution_count": 12,
   "metadata": {},
   "outputs": [
    {
     "name": "stdout",
     "output_type": "stream",
     "text": [
      "As an AI language model, I can only present the concept of a dog based on the data I have been fed and the patterns I have learned through my training. Therefore, the concept of a dog can be described as a domesticated mammal species that belongs to the Canidae family, which also includes wolves, foxes, and coyotes. \n",
      "\n",
      "Dogs come in various breeds, sizes, shapes, colors, and temperaments. They are often kept as pets and trained to perform various roles such as companionship, hunting, herding, guarding, law enforcement, and as service animals for people with disabilities. \n",
      "\n",
      "Dogs are known for their loyalty, affectionate nature, and social behavior. They communicate with humans and other animals through body language, vocalizations, and scent marking. Dogs have been domesticated for thousands of years and have evolved to be adaptable to various environments and lifestyles. \n",
      "\n",
      "In summary, the concept of a dog encompasses a diverse range of characteristics, behaviors, and roles that have been shaped by their evolution and human interactions.\n"
     ]
    }
   ],
   "source": [
    "openai.api_key = openaiKEY\n",
    "text = 'dog'\n",
    "response = openai.ChatCompletion.create(\n",
    "        model = \"gpt-3.5-turbo\",\n",
    "        messages = [\n",
    "            {\"role\": \"system\", \"content\": \"Explain to me the concept of %s.\" %text },\n",
    "        ]\n",
    "    )\n",
    "\n",
    "print(response.choices[0].message.content)"
   ]
  },
  {
   "cell_type": "code",
   "execution_count": null,
   "metadata": {},
   "outputs": [],
   "source": []
  }
 ],
 "metadata": {
  "kernelspec": {
   "display_name": "base",
   "language": "python",
   "name": "python3"
  },
  "language_info": {
   "codemirror_mode": {
    "name": "ipython",
    "version": 3
   },
   "file_extension": ".py",
   "mimetype": "text/x-python",
   "name": "python",
   "nbconvert_exporter": "python",
   "pygments_lexer": "ipython3",
   "version": "3.9.13"
  },
  "orig_nbformat": 4
 },
 "nbformat": 4,
 "nbformat_minor": 2
}
